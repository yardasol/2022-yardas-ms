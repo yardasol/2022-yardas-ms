{
 "cells": [
  {
   "cell_type": "code",
   "execution_count": 1,
   "id": "49a07b6c",
   "metadata": {},
   "outputs": [],
   "source": [
    "import numpy as np\n",
    "import openmc\n",
    "import openmc.deplete\n",
    "from pyne import serpent\n",
    "import re\n",
    "from openmc.data import zam, gnd_name\n",
    "from openmc.deplete.coupled_operator import _get_nuclides_with_data"
   ]
  },
  {
   "cell_type": "code",
   "execution_count": 8,
   "id": "907a3209",
   "metadata": {},
   "outputs": [],
   "source": [
    "og_mats = openmc.Materials.from_xml()\n",
    "fuel = og_mats[0]"
   ]
  },
  {
   "cell_type": "code",
   "execution_count": 9,
   "id": "8f5c6935",
   "metadata": {},
   "outputs": [],
   "source": [
    "# Load OpenMC depletion results\n",
    "dep_omc = openmc.deplete.Results(filename='openmc-results/depletion_results.h5')"
   ]
  },
  {
   "cell_type": "code",
   "execution_count": 12,
   "id": "49087504",
   "metadata": {},
   "outputs": [],
   "source": [
    "name_dict = dep_omc[0].index_nuc\n",
    "sorted_names = sorted(name_dict.items(), key=lambda x:x[1])\n",
    "mat = dep_omc.export_to_materials(0)\n",
    "serpent_mats = []\n",
    "tot_mass = mat[0].get_mass()\n",
    "serp_spec = []\n",
    "og_nucs = fuel.get_nuclides()\n",
    "nuclides_with_data = _get_nuclides_with_data('/home/ooblack/projects/cross-section-libraries/endfb71_h5/cross_sections.xml')\n",
    "for name, idx in sorted_names:\n",
    "    mass_percent = mat[0].get_mass(name) / tot_mass\n",
    "    z, a, m = zam(name)\n",
    "    serp_zam = str(z*1000 + a + (300*int(bool(m)) + 100*m))\n",
    "    if name in nuclides_with_data:\n",
    "        serp_zam = ''.join([serp_zam, '.82c'])\n",
    "    else:\n",
    "        serp_zam = ''.join([serp_zam, str(m)])\n",
    "    serp_space = ''.join([\" \"]*(20 - len(serp_zam)))\n",
    "    serp_zam = serp_space + serp_zam\n",
    "    if name not in og_nucs:\n",
    "        mass_percent = 0.0\n",
    "    serp_spec.append(serp_zam + \"  -\" + str(mass_percent) + '\\n')\n",
    "    \n",
    "    "
   ]
  },
  {
   "cell_type": "code",
   "execution_count": 13,
   "id": "a4d24851",
   "metadata": {},
   "outputs": [],
   "source": [
    "with open('serp_spec.txt', 'w') as f:\n",
    "    f.writelines(serp_spec)"
   ]
  },
  {
   "cell_type": "code",
   "execution_count": null,
   "id": "81b632e3",
   "metadata": {},
   "outputs": [],
   "source": []
  }
 ],
 "metadata": {
  "kernelspec": {
   "display_name": "Python 3 (ipykernel)",
   "language": "python",
   "name": "python3"
  },
  "language_info": {
   "codemirror_mode": {
    "name": "ipython",
    "version": 3
   },
   "file_extension": ".py",
   "mimetype": "text/x-python",
   "name": "python",
   "nbconvert_exporter": "python",
   "pygments_lexer": "ipython3",
   "version": "3.9.7"
  }
 },
 "nbformat": 4,
 "nbformat_minor": 5
}
