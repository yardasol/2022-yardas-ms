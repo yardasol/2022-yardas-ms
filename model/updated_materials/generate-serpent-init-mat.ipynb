{
 "cells": [
  {
   "cell_type": "code",
   "execution_count": 25,
   "id": "49a07b6c",
   "metadata": {},
   "outputs": [],
   "source": [
    "import numpy as np\n",
    "import openmc\n",
    "import openmc.deplete\n",
    "from pyne import serpent\n",
    "import re\n",
    "from openmc.data import zam, gnd_name, atomic_mass\n",
    "from openmc.deplete.coupled_operator import _get_nuclides_with_data"
   ]
  },
  {
   "cell_type": "code",
   "execution_count": 2,
   "id": "907a3209",
   "metadata": {},
   "outputs": [],
   "source": [
    "og_mats = openmc.Materials.from_xml()\n",
    "fuel = og_mats[0]"
   ]
  },
  {
   "cell_type": "code",
   "execution_count": 3,
   "id": "8f5c6935",
   "metadata": {},
   "outputs": [],
   "source": [
    "# Load OpenMC depletion results\n",
    "dep_omc = openmc.deplete.Results(filename='openmc-results/depletion_results.h5')"
   ]
  },
  {
   "cell_type": "code",
   "execution_count": 33,
   "id": "49087504",
   "metadata": {},
   "outputs": [],
   "source": [
    "name_dict = dep_omc[0].index_nuc\n",
    "sorted_names = sorted(name_dict.items(), key=lambda x:x[1])\n",
    "mat = dep_omc.export_to_materials(0)\n",
    "mass_percents = []\n",
    "nuc_mass = []\n",
    "nuc_names = []\n",
    "tot_mass = mat[0].get_mass()\n",
    "serp_spec = []\n",
    "og_nucs = fuel.get_nuclides()\n",
    "nuclides_with_data = _get_nuclides_with_data('/home/ooblack/projects/cross-section-libraries/endfb71_h5/cross_sections.xml')\n",
    "for name, idx in sorted_names:\n",
    "    if name in nuclides_with_data:\n",
    "        mass_percent = mat[0].get_mass(name) / tot_mass\n",
    "        mass_percents.append(mass_percent)\n",
    "        nuc_mass.append(atomic_mass(name))\n",
    "        nuc_names.append(name)\n",
    "        z, a, m = zam(name)\n",
    "        serp_zam = str(z*1000 + a + (300*int(bool(m)) + 100*m))\n",
    "        if name in nuclides_with_data:\n",
    "            serp_zam = ''.join([serp_zam, '.82c'])\n",
    "        else:\n",
    "            serp_zam = ''.join([serp_zam, str(m)])\n",
    "        serp_space = ''.join([\" \"]*(20 - len(serp_zam)))\n",
    "        serp_zam = serp_space + serp_zam\n",
    "        serp_spec.append(serp_zam + \"  -\" + str(mass_percent) + '\\n')\n",
    "mass_percents = np.array(mass_percents)\n",
    "nuc_mass = np.array(nuc_mass)\n",
    "    "
   ]
  },
  {
   "cell_type": "code",
   "execution_count": 34,
   "id": "7feeab24",
   "metadata": {},
   "outputs": [],
   "source": [
    "at_percents = (mass_percents/nuc_mass) / np.sum(mass_percents/nuc_mass)"
   ]
  },
  {
   "cell_type": "code",
   "execution_count": 41,
   "id": "0100c040",
   "metadata": {},
   "outputs": [
    {
     "data": {
      "text/plain": [
       "162363299.18199995"
      ]
     },
     "execution_count": 41,
     "metadata": {},
     "output_type": "execute_result"
    }
   ],
   "source": [
    "tot_mass"
   ]
  },
  {
   "cell_type": "code",
   "execution_count": 40,
   "id": "33fb5175",
   "metadata": {},
   "outputs": [
    {
     "data": {
      "text/plain": [
       "0.0006"
      ]
     },
     "execution_count": 40,
     "metadata": {},
     "output_type": "execute_result"
    }
   ],
   "source": [
    "dict(zip(nuc_names, at_percents))['U233']"
   ]
  },
  {
   "cell_type": "code",
   "execution_count": 41,
   "id": "184926e0",
   "metadata": {},
   "outputs": [],
   "source": [
    "serp_spec = []\n",
    "for name, tup in mat[2].get_nuclide_densities().items():\n",
    "    name, mass_percent, percent_type = tup\n",
    "    z, a, m = zam(name)\n",
    "    serp_zam = str(z*1000 + a + (300*int(bool(m)) + 100*m))\n",
    "    if name in nuclides_with_data:\n",
    "        serp_zam = ''.join([serp_zam, '.82c'])\n",
    "    else:\n",
    "        serp_zam = ''.join([serp_zam, str(m)])\n",
    "    serp_space = ''.join([\" \"]*(20 - len(serp_zam)))\n",
    "    serp_zam = serp_space + serp_zam\n",
    "    serp_spec.append(serp_zam + \"  -\" + str(mass_percent) + '\\n')"
   ]
  },
  {
   "cell_type": "code",
   "execution_count": 23,
   "id": "a4d24851",
   "metadata": {},
   "outputs": [],
   "source": [
    "with open('serp_spec.txt', 'w') as f:\n",
    "    f.writelines(serp_spec)"
   ]
  },
  {
   "cell_type": "code",
   "execution_count": null,
   "id": "81b632e3",
   "metadata": {},
   "outputs": [],
   "source": []
  }
 ],
 "metadata": {
  "kernelspec": {
   "display_name": "Python 3 (ipykernel)",
   "language": "python",
   "name": "python3"
  },
  "language_info": {
   "codemirror_mode": {
    "name": "ipython",
    "version": 3
   },
   "file_extension": ".py",
   "mimetype": "text/x-python",
   "name": "python",
   "nbconvert_exporter": "python",
   "pygments_lexer": "ipython3",
   "version": "3.9.13"
  }
 },
 "nbformat": 4,
 "nbformat_minor": 5
}
