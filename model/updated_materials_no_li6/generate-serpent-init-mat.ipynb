{
 "cells": [
  {
   "cell_type": "code",
   "execution_count": 1,
   "id": "49a07b6c",
   "metadata": {},
   "outputs": [],
   "source": [
    "import numpy as np\n",
    "import openmc\n",
    "import openmc.deplete\n",
    "from pyne import serpent\n",
    "import re\n",
    "from openmc.data import zam, gnd_name, atomic_mass\n",
    "from openmc.deplete.coupled_operator import _get_nuclides_with_data"
   ]
  },
  {
   "cell_type": "code",
   "execution_count": 2,
   "id": "907a3209",
   "metadata": {},
   "outputs": [],
   "source": [
    "og_mats = openmc.Materials.from_xml()\n",
    "fuel = og_mats[0]"
   ]
  },
  {
   "cell_type": "code",
   "execution_count": 3,
   "id": "8f5c6935",
   "metadata": {},
   "outputs": [],
   "source": [
    "# Load OpenMC depletion results\n",
    "dep_omc = openmc.deplete.Results(filename='openmc-results/depletion_results.h5')"
   ]
  },
  {
   "cell_type": "code",
   "execution_count": 4,
   "id": "49087504",
   "metadata": {},
   "outputs": [
    {
     "name": "stderr",
     "output_type": "stream",
     "text": [
      "/home/ooblack/projects/openmc/openmc/mixin.py:70: IDWarning: Another Material instance already exists with id=1.\n",
      "  warn(msg, IDWarning)\n",
      "/home/ooblack/projects/openmc/openmc/mixin.py:70: IDWarning: Another Material instance already exists with id=2.\n",
      "  warn(msg, IDWarning)\n",
      "/home/ooblack/projects/openmc/openmc/mixin.py:70: IDWarning: Another Material instance already exists with id=3.\n",
      "  warn(msg, IDWarning)\n"
     ]
    }
   ],
   "source": [
    "name_dict = dep_omc[0].index_nuc\n",
    "sorted_names = sorted(name_dict.items(), key=lambda x:x[1])\n",
    "mat = dep_omc.export_to_materials(0)\n",
    "mass_percents = []\n",
    "nuc_mass = []\n",
    "nuc_names = []\n",
    "tot_mass = mat[0].get_mass()\n",
    "serp_spec = []\n",
    "og_nucs = fuel.get_nuclides()\n",
    "nuclides_with_data = _get_nuclides_with_data('/home/ooblack/projects/cross-section-libraries/endfb71_h5/cross_sections.xml')\n",
    "for name, idx in sorted_names:\n",
    "    if name in nuclides_with_data:\n",
    "        mass_percent = mat[0].get_mass(name) / tot_mass\n",
    "        mass_percents.append(mass_percent)\n",
    "        nuc_mass.append(atomic_mass(name))\n",
    "        nuc_names.append(name)\n",
    "        z, a, m = zam(name)\n",
    "        serp_zam = str(z*1000 + a + (300*int(bool(m)) + 100*m))\n",
    "        if name in nuclides_with_data:\n",
    "            serp_zam = ''.join([serp_zam, '.82c'])\n",
    "        else:\n",
    "            serp_zam = ''.join([serp_zam, str(m)])\n",
    "        serp_space = ''.join([\" \"]*(20 - len(serp_zam)))\n",
    "        serp_zam = serp_space + serp_zam\n",
    "        serp_spec.append(serp_zam + \"  -\" + str(mass_percent) + '\\n')\n",
    "mass_percents = np.array(mass_percents)\n",
    "nuc_mass = np.array(nuc_mass)\n",
    "    "
   ]
  },
  {
   "cell_type": "code",
   "execution_count": 5,
   "id": "7feeab24",
   "metadata": {},
   "outputs": [],
   "source": [
    "at_percents = (mass_percents/nuc_mass) / np.sum(mass_percents/nuc_mass)"
   ]
  },
  {
   "cell_type": "code",
   "execution_count": 6,
   "id": "0100c040",
   "metadata": {},
   "outputs": [
    {
     "data": {
      "text/plain": [
       "162363299.18199995"
      ]
     },
     "execution_count": 6,
     "metadata": {},
     "output_type": "execute_result"
    }
   ],
   "source": [
    "tot_mass"
   ]
  },
  {
   "cell_type": "code",
   "execution_count": 10,
   "id": "ffae0378",
   "metadata": {},
   "outputs": [
    {
     "data": {
      "text/plain": [
       "[Material\n",
       " \tID             =\t1\n",
       " \tName           =\tfuel\n",
       " \tTemperature    =\tNone\n",
       " \tDensity        =\t3.3332642 [g/cm3]\n",
       " \tS(a,b) Tables  \n",
       " \tNuclides       \n",
       " \tLi7            =\t0.12957465539473384 [wo]\n",
       " \tBe9            =\t0.024761094770805 [wo]\n",
       " \tF19            =\t0.5515736451584381 [wo]\n",
       " \tTh232          =\t0.28688745979607144 [wo]\n",
       " \tU233           =\t0.007203144879951567 [wo],\n",
       " Material\n",
       " \tID             =\t2\n",
       " \tName           =\tgraphite\n",
       " \tTemperature    =\tNone\n",
       " \tDensity        =\t1.843 [g/cm3]\n",
       " \tS(a,b) Tables  \n",
       " \tS(a,b)         =\t('c_Graphite', 1.0)\n",
       " \tNuclides       \n",
       " \tC0             =\t1.0          [wo],\n",
       " Material\n",
       " \tID             =\t3\n",
       " \tName           =\thastelloyN\n",
       " \tTemperature    =\tNone\n",
       " \tDensity        =\t8.671 [g/cm3]\n",
       " \tS(a,b) Tables  \n",
       " \tNuclides       \n",
       " \tB10            =\t1.835549587507326e-06 [wo]\n",
       " \tB11            =\t8.164450412492673e-06 [wo]\n",
       " \tAl27           =\t0.001        [wo]\n",
       " \tSi28           =\t0.0009187351728295046 [wo]\n",
       " \tSi29           =\t4.831750292845674e-05 [wo]\n",
       " \tSi30           =\t3.294732424203873e-05 [wo]\n",
       " \tP31            =\t0.00015      [wo]\n",
       " \tS32            =\t0.0001421529162123894 [wo]\n",
       " \tS33            =\t1.154822906641789e-06 [wo]\n",
       " \tS34            =\t6.667728601323577e-06 [wo]\n",
       " \tS36            =\t2.453227964521797e-08 [wo]\n",
       " \tTi46           =\t0.0009900119071047102 [wo]\n",
       " \tTi47           =\t0.0009122227902740746 [wo]\n",
       " \tTi48           =\t0.009230631528488601 [wo]\n",
       " \tTi49           =\t0.0006915238166661852 [wo]\n",
       " \tTi50           =\t0.0006756099574664301 [wo]\n",
       " \tCr50           =\t0.002921580575502679 [wo]\n",
       " \tCr52           =\t0.05858955364682328 [wo]\n",
       " \tCr53           =\t0.006771510820966751 [wo]\n",
       " \tCr54           =\t0.001717354956707304 [wo]\n",
       " \tMn55           =\t0.0035       [wo]\n",
       " \tFe54           =\t0.0016936674679200211 [wo]\n",
       " \tFe56           =\t0.027570458631534105 [wo]\n",
       " \tFe57           =\t0.0006481105852150811 [wo]\n",
       " \tFe58           =\t8.776331533079324e-05 [wo]\n",
       " \tCo59           =\t0.002        [wo]\n",
       " \tNi58           =\t0.49530756599702 [wo]\n",
       " \tNi60           =\t0.19736294491982 [wo]\n",
       " \tNi61           =\t0.008722421480743293 [wo]\n",
       " \tNi62           =\t0.02826609170871261 [wo]\n",
       " \tNi64           =\t0.007430975893704046 [wo]\n",
       " \tCu63           =\t0.0006847919524171369 [wo]\n",
       " \tCu65           =\t0.0003152080475828631 [wo]\n",
       " \tNb93           =\t0.01         [wo]\n",
       " \tMo92           =\t0.016838269656552784 [wo]\n",
       " \tMo94           =\t0.010789582057261462 [wo]\n",
       " \tMo95           =\t0.018840557267706455 [wo]\n",
       " \tMo96           =\t0.01999840362212584 [wo]\n",
       " \tMo97           =\t0.011613114608838517 [wo]\n",
       " \tMo98           =\t0.029744846826805914 [wo]\n",
       " \tMo100          =\t0.012175225960709028 [wo]\n",
       " \tHf174          =\t1.55925767789418e-05 [wo]\n",
       " \tHf176          =\t0.000518504027100689 [wo]\n",
       " \tHf177          =\t0.0018439333432706492 [wo]\n",
       " \tHf178          =\t0.0027197270772042928 [wo]\n",
       " \tHf179          =\t0.0013655166554622142 [wo]\n",
       " \tHf180          =\t0.0035367263201832133 [wo]\n",
       " \tW180           =\t1.1745755317333419e-06 [wo]\n",
       " \tW182           =\t0.000262270494770502 [wo]\n",
       " \tW183           =\t0.0001424060252874687 [wo]\n",
       " \tW184           =\t0.0003065819208728562 [wo]\n",
       " \tW186           =\t0.0002875669835374398 [wo]\n",
       " \tC0             =\t0.0006       [wo]]"
      ]
     },
     "execution_count": 10,
     "metadata": {},
     "output_type": "execute_result"
    }
   ],
   "source": [
    "og_mats"
   ]
  },
  {
   "cell_type": "code",
   "execution_count": 9,
   "id": "33fb5175",
   "metadata": {},
   "outputs": [
    {
     "data": {
      "text/plain": [
       "0.007208481408313772"
      ]
     },
     "execution_count": 9,
     "metadata": {},
     "output_type": "execute_result"
    }
   ],
   "source": [
    "dict(zip(nuc_names, mass_percents))['U233']"
   ]
  },
  {
   "cell_type": "code",
   "execution_count": 41,
   "id": "184926e0",
   "metadata": {},
   "outputs": [],
   "source": [
    "serp_spec = []\n",
    "for name, tup in mat[2].get_nuclide_densities().items():\n",
    "    name, mass_percent, percent_type = tup\n",
    "    z, a, m = zam(name)\n",
    "    serp_zam = str(z*1000 + a + (300*int(bool(m)) + 100*m))\n",
    "    if name in nuclides_with_data:\n",
    "        serp_zam = ''.join([serp_zam, '.82c'])\n",
    "    else:\n",
    "        serp_zam = ''.join([serp_zam, str(m)])\n",
    "    serp_space = ''.join([\" \"]*(20 - len(serp_zam)))\n",
    "    serp_zam = serp_space + serp_zam\n",
    "    serp_spec.append(serp_zam + \"  -\" + str(mass_percent) + '\\n')"
   ]
  },
  {
   "cell_type": "code",
   "execution_count": 8,
   "id": "a4d24851",
   "metadata": {},
   "outputs": [],
   "source": [
    "with open('serp_spec.txt', 'w') as f:\n",
    "    f.writelines(serp_spec)"
   ]
  },
  {
   "cell_type": "code",
   "execution_count": null,
   "id": "81b632e3",
   "metadata": {},
   "outputs": [],
   "source": []
  }
 ],
 "metadata": {
  "kernelspec": {
   "display_name": "Python 3 (ipykernel)",
   "language": "python",
   "name": "python3"
  },
  "language_info": {
   "codemirror_mode": {
    "name": "ipython",
    "version": 3
   },
   "file_extension": ".py",
   "mimetype": "text/x-python",
   "name": "python",
   "nbconvert_exporter": "python",
   "pygments_lexer": "ipython3",
   "version": "3.9.13"
  }
 },
 "nbformat": 4,
 "nbformat_minor": 5
}
