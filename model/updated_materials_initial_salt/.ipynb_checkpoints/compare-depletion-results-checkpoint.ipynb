{
 "cells": [
  {
   "cell_type": "code",
   "execution_count": null,
   "id": "b680478f",
   "metadata": {},
   "outputs": [],
   "source": [
    "import numpy as np\n",
    "import openmc\n",
    "import openmc.deplete\n",
    "from pyne import serpent\n",
    "import re\n",
    "import matplotlib.pyplot as plt\n",
    "from openmc.data import AVOGADRO, atomic_mass"
   ]
  },
  {
   "cell_type": "code",
   "execution_count": null,
   "id": "d5687cac",
   "metadata": {},
   "outputs": [],
   "source": [
    "# Load OpenMC depletion results\n",
    "dep_omc = openmc.deplete.Results(filename='openmc-results/depletion_results.h5')\n",
    "\n",
    "# Load Serpent depletion results\n",
    "dep_serpent = serpent.parse_dep('msbr_endfb71.serpent_dep.m', make_mats=False)\n",
    "mat_name = []\n",
    "mats = {}\n",
    "for key in dep_serpent.keys():\n",
    "    m = re.search('MAT_(.+?)_VOLUME', key)\n",
    "    if m:\n",
    "        mat_name.append(m.group(1))\n",
    "z_names = dep_serpent['NAMES'][0].split()[:-2]  # zzaaam codes of isotopes\n",
    "nucvec = dict(zip(z_names, dep_serpent['MAT_' + mat_name[0] + '_MDENS'][:]))\n",
    "\n",
    "res_serpent = serpent.parse_res('msbr_endfb71.serpent_res.m')"
   ]
  },
  {
   "cell_type": "code",
   "execution_count": null,
   "id": "56c78d2f",
   "metadata": {},
   "outputs": [],
   "source": [
    "X = 'Th232'\n",
    "t = dep_omc.get_atoms('1', X, 'atom/cm3', time_units='d')[0]\n",
    "mdens_omc = dep_omc.get_atoms('1', X, 'atom/cm3', time_units='d')[1] * atomic_mass(X) / AVOGADRO\n",
    "#X = 'Ag110m'\n",
    "mdens_serp = nucvec[X]\n",
    "\n",
    "plt.plot(t, mdens_omc, label=f'{X} OpenMC')\n",
    "plt.plot(t, mdens_serp, label=f'{X} Serpent')\n",
    "plt.ylabel('Concentration [g/cm3]')\n",
    "plt.xlabel('Time [d]')\n",
    "plt.legend()\n",
    "\n",
    "# Relative error\n",
    "plt.figure()\n",
    "plt.plot(t, (mdens_serp - mdens_omc)/mdens_serp)\n",
    "plt.ylabel('Concentration [g/cm3]')\n",
    "plt.xlabel('Time [d]')\n",
    "plt.title(f'Error in OpenMC {X} concentration relative to Serpent')\n"
   ]
  },
  {
   "cell_type": "code",
   "execution_count": null,
   "id": "5e422c83",
   "metadata": {},
   "outputs": [],
   "source": [
    "dep_omc = openmc.deplete.Results.from_hdf5('openmc-results/depletion_results.h5')\n",
    "\n",
    "\n",
    "t, keff_omc = dep_omc.get_keff(time_units='d')\n",
    "kcol_omc = []\n",
    "kcol_omc_err = []\n",
    "kabs_omc = []\n",
    "kabs_omc_err = []\n",
    "runtime_omc = []\n",
    "for i in range(0, len(t)):\n",
    "    sp = openmc.StatePoint(f'openmc-results/openmc_simulation_n{i}.h5')\n",
    "    kcol_omc.append(sp.global_tallies[0][3])\n",
    "    kcol_omc_err.append(sp.global_tallies[0][4])\n",
    "    kabs_omc.append(sp.global_tallies[1][3])\n",
    "    kabs_omc_err.append(sp.global_tallies[1][4])\n",
    "    runtime_omc.append(sp.runtime['total']\n",
    "    ])\n",
    "    sp.close()\n",
    "    \n",
    "kcom_omc_err = keff_omc[:,1]\n",
    "kcom_omc = keff_omc[:,0]\n",
    "runtime_serp = res_serpent['RUNNING_TIME']"
   ]
  },
  {
   "cell_type": "code",
   "execution_count": null,
   "id": "9a3305f2",
   "metadata": {
    "scrolled": false
   },
   "outputs": [],
   "source": [
    "#plt.errorbar(t, keff_omc, yerr=keff_omc_err, label='keff OpenMC')\n",
    "smap = {'analog':[(kcom_omc, kcom_omc_err), 'ANA'], \n",
    "        'collision':[(kcol_omc, kcol_omc_err), 'COL'], \n",
    "        'absorption':[(kabs_omc, kabs_omc_err), 'ABS']}\n",
    "for s, v in smap.items():\n",
    "    plt.figure()\n",
    "    keff_omc = v[0][0]\n",
    "    keff_omc_err = v[0][1]\n",
    "    keff_serp = res_serpent[f'{v[-1]}_KEFF'][:,0]\n",
    "    keff_serp_err = res_serpent[f'{v[-1]}_KEFF'][:,1]\n",
    "    plt.figure()\n",
    "    plt.errorbar(t, keff_omc, yerr=keff_omc_err, label=f'{s} keff OpenMC')\n",
    "    plt.errorbar(t, keff_serp, yerr=keff_serp_err, label=f'{s} keff Serpent')\n",
    "    \n",
    "    plt.ylabel('Keff')\n",
    "    plt.xlabel('Time [d]')\n",
    "    plt.legend()\n",
    "\n",
    "for s, v in smap.items():\n",
    "    plt.figure()\n",
    "    keff_omc = v[0][0]\n",
    "    keff_omc_err = v[0][1]\n",
    "    keff_serp = res_serpent[f'{v[-1]}_KEFF'][:,0]\n",
    "    keff_serp_err = res_serpent[f'{v[-1]}_KEFF'][:,1]\n",
    "    plt.plot(t, np.abs((keff_serp-keff_omc)/keff_serp), label=f'OpenMC {s} keff error relative to {s} keff in Serpent')\n",
    "    #plt.plot(t, np.abs((keff_omc-keff_serp)/keff_omc), label=f'Serpent {s} keff error relative to keff in OpenMC')\n",
    "    plt.plot(t, keff_serp_err, label=f'{s} keff error Serpent')\n",
    "    plt.plot(t, keff_omc_err, label=f'{s} keff error OpenMC')\n",
    "    plt.ylabel('Keff error')\n",
    "    plt.xlabel('Time [d]')\n",
    "    plt.legend()"
   ]
  }
 ],
 "metadata": {
  "kernelspec": {
   "display_name": "Python 3 (ipykernel)",
   "language": "python",
   "name": "python3"
  },
  "language_info": {
   "codemirror_mode": {
    "name": "ipython",
    "version": 3
   },
   "file_extension": ".py",
   "mimetype": "text/x-python",
   "name": "python",
   "nbconvert_exporter": "python",
   "pygments_lexer": "ipython3",
   "version": "3.9.13"
  }
 },
 "nbformat": 4,
 "nbformat_minor": 5
}
